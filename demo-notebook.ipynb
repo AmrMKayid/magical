{
  "nbformat": 4,
  "nbformat_minor": 0,
  "metadata": {
    "kernelspec": {
      "display_name": "Python 3",
      "language": "python",
      "name": "python3"
    },
    "language_info": {
      "codemirror_mode": {
        "name": "ipython",
        "version": 3
      },
      "file_extension": ".py",
      "mimetype": "text/x-python",
      "name": "python",
      "nbconvert_exporter": "python",
      "pygments_lexer": "ipython3",
      "version": "3.6.8"
    },
    "colab": {
      "name": "demo-notebook.ipynb",
      "provenance": [],
      "toc_visible": true
    }
  },
  "cells": [
    {
      "cell_type": "markdown",
      "metadata": {
        "id": "rLCCM5Ev7iDF"
      },
      "source": [
        "# Demo of the MAGICAL benchmark suite for robust IL\n",
        "\n",
        "[![Open In Colab](https://colab.research.google.com/assets/colab-badge.svg)](https://colab.research.google.com/github/qxcv/magical/blob/pyglet1.5/demo-notebook.ipynb)\n",
        "\n",
        "This self-contained Colab notebook shows how to train a simple imitation learning agent on MAGICAL using behavioural cloning (BC)."
      ]
    },
    {
      "cell_type": "code",
      "metadata": {
        "id": "_Vhtm7mY7iDG"
      },
      "source": [
        "# Install MAGICAL, Xvfb, and a prerelease version of the 'imitation' library (https://github.com/HumanCompatibleAI/imitation)\n",
        "!sudo DEBIAN_FRONTEND=noninteractive apt-get install -yq xvfb\n",
        "!pip install -qU pip\n",
        "# This usually gives errors of the form \"package W requires version X of package Y, but you'll have version Z which is incompatible\"\n",
        "# You can safely ignore those errors; they are dependency conflicts in the underlying libraries.\n",
        "!pip install --use-feature=2020-resolver -q xvfbwrapper magical-il 'git+git://github.com/HumanCompatibleAI/imitation@556f5d8384d99fa5ab8bc54a9828887a2db8c669#egg=imitation'\n",
        "if 'vdisplay' not in globals():\n",
        "    # start a virtual X display for MAGICAL rendering\n",
        "    import xvfbwrapper\n",
        "    vdisplay = xvfbwrapper.Xvfb()\n",
        "    vdisplay.start()"
      ],
      "execution_count": null,
      "outputs": []
    },
    {
      "cell_type": "code",
      "metadata": {
        "id": "Ie_RQjct7iDH"
      },
      "source": [
        "import glob\n",
        "import logging\n",
        "import magical\n",
        "from gym import make\n",
        "\n",
        "magical.register_envs()\n",
        "logging.basicConfig(level=logging.INFO)\n",
        "# download trajectories\n",
        "magical.try_download_demos(dest=\"demos\")"
      ],
      "execution_count": null,
      "outputs": []
    },
    {
      "cell_type": "code",
      "metadata": {
        "id": "1hfHaZG67iDH"
      },
      "source": [
        "env_ident = 'MoveToCorner'\n",
        "preproc_name = 'LoRes4E'"
      ],
      "execution_count": null,
      "outputs": []
    },
    {
      "cell_type": "code",
      "metadata": {
        "id": "E-knOWB17iDH"
      },
      "source": [
        "demo_paths_by_env = {\n",
        "    'MoveToCorner': glob.glob('demos/move-to-corner/demo-*.pkl.gz'),\n",
        "}\n",
        "demo_paths = demo_paths_by_env[env_ident]\n",
        "# Gym env name with preprocessor\n",
        "env_name = f'{env_ident}-Demo-{preproc_name}-v0'"
      ],
      "execution_count": null,
      "outputs": []
    },
    {
      "cell_type": "code",
      "metadata": {
        "id": "eHSVWkb87iDI"
      },
      "source": [
        "demo_dicts = magical.load_demos(demo_paths[:10])\n",
        "demo_trajs = []\n",
        "orig_env_name = None  # we will read this from the demos dicts\n",
        "for demo_dict in demo_dicts:\n",
        "    # each demo dict has keys ['trajectory', 'score', 'env_name']\n",
        "    # (trajectory contains the actual data, and score is generally 1.0 for demonstrations)\n",
        "    orig_env_name = demo_dict['env_name']\n",
        "    demo_trajs.append(demo_dict['trajectory'])"
      ],
      "execution_count": null,
      "outputs": []
    },
    {
      "cell_type": "code",
      "metadata": {
        "id": "99294Kzb7iDI"
      },
      "source": [
        "demo_trajs_preproc = magical.preprocess_demos_with_wrapper(demo_trajs, orig_env_name, preproc_name=preproc_name)"
      ],
      "execution_count": null,
      "outputs": []
    },
    {
      "cell_type": "code",
      "metadata": {
        "id": "Q3qN6UyGeAil"
      },
      "source": [
        ""
      ],
      "execution_count": null,
      "outputs": []
    }
  ]
}