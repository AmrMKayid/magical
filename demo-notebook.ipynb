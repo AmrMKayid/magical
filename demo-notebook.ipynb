{
 "cells": [
  {
   "cell_type": "markdown",
   "metadata": {},
   "source": [
    "# Demo of the MAGICAL benchmark suite for robust IL"
   ]
  },
  {
   "cell_type": "code",
   "execution_count": null,
   "metadata": {},
   "outputs": [],
   "source": [
    "# Install prerelease version of the 'imitation' library (https://github.com/HumanCompatibleAI/imitation)\n",
    "#!pip install 'git+git://github.com/HumanCompatibleAI/imitation@9eda3ed67f1712786a234e1db90099b2bbbe314e#egg=imitation'"
   ]
  },
  {
   "cell_type": "code",
   "execution_count": null,
   "metadata": {},
   "outputs": [],
   "source": [
    "import glob\n",
    "import logging\n",
    "import magical\n",
    "from gym import make\n",
    "\n",
    "magical.register_envs()\n",
    "logging.basicConfig(level=logging.DEBUG)"
   ]
  },
  {
   "cell_type": "code",
   "execution_count": null,
   "metadata": {},
   "outputs": [],
   "source": [
    "# download trajectories\n",
    "magical.try_download_demos(dest=\"demos\")"
   ]
  },
  {
   "cell_type": "code",
   "execution_count": null,
   "metadata": {},
   "outputs": [],
   "source": [
    "env_ident = 'MoveToCorner'\n",
    "preproc_name = 'LoRes4E'"
   ]
  },
  {
   "cell_type": "code",
   "execution_count": null,
   "metadata": {},
   "outputs": [],
   "source": [
    "demo_paths_by_env = {\n",
    "    'MoveToCorner': glob.glob('demos/move-to-corner/demo-*.pkl.gz'),\n",
    "}\n",
    "demo_paths = demo_paths_by_env[env_ident]\n",
    "# Gym env name with preprocessor\n",
    "env_name = f'{env_ident}-Demo-{preproc_name}-v0'"
   ]
  },
  {
   "cell_type": "code",
   "execution_count": null,
   "metadata": {},
   "outputs": [],
   "source": [
    "demo_trajs = list(magical.load_demos(demo_paths[:10]))"
   ]
  },
  {
   "cell_type": "code",
   "execution_count": null,
   "metadata": {},
   "outputs": [],
   "source": [
    "demo_trajs[0].keys()"
   ]
  },
  {
   "cell_type": "code",
   "execution_count": null,
   "metadata": {},
   "outputs": [],
   "source": [
    "demo_trajs_preproc = magical.preprocess_demos_with_wrapper(demo_trajs, demo_trajs[0]['env_name'], preproc_name='LoRes4E')"
   ]
  },
  {
   "cell_type": "code",
   "execution_count": null,
   "metadata": {},
   "outputs": [],
   "source": []
  }
 ],
 "metadata": {
  "kernelspec": {
   "display_name": "Python 3",
   "language": "python",
   "name": "python3"
  },
  "language_info": {
   "codemirror_mode": {
    "name": "ipython",
    "version": 3
   },
   "file_extension": ".py",
   "mimetype": "text/x-python",
   "name": "python",
   "nbconvert_exporter": "python",
   "pygments_lexer": "ipython3",
   "version": "3.6.8"
  }
 },
 "nbformat": 4,
 "nbformat_minor": 4
}
