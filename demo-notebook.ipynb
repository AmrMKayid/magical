{
 "cells": [
  {
   "cell_type": "markdown",
   "metadata": {},
   "source": [
    "# Demo of the MAGICAL benchmark suite for robust IL\n",
    "\n",
    "This self-contained Colab notebook shows how to train a simple imitatino learning agent on MAGICAL using behavioural cloning (BC)."
   ]
  },
  {
   "cell_type": "code",
   "execution_count": null,
   "metadata": {},
   "outputs": [],
   "source": [
    "# Install MAGICAL and a prerelease version of the 'imitation' library (https://github.com/HumanCompatibleAI/imitation)\n",
    "!pip install magical-il\n",
    "!pip install 'git+git://github.com/HumanCompatibleAI/imitation@9eda3ed67f1712786a234e1db90099b2bbbe314e#egg=imitation'"
   ]
  },
  {
   "cell_type": "code",
   "execution_count": null,
   "metadata": {},
   "outputs": [],
   "source": [
    "import glob\n",
    "import logging\n",
    "import magical\n",
    "from gym import make\n",
    "\n",
    "magical.register_envs()\n",
    "logging.basicConfig(level=logging.DEBUG)"
   ]
  },
  {
   "cell_type": "code",
   "execution_count": null,
   "metadata": {},
   "outputs": [],
   "source": [
    "# download trajectories\n",
    "magical.try_download_demos(dest=\"demos\")"
   ]
  },
  {
   "cell_type": "code",
   "execution_count": null,
   "metadata": {},
   "outputs": [],
   "source": [
    "env_ident = 'MoveToCorner'\n",
    "preproc_name = 'LoRes4E'"
   ]
  },
  {
   "cell_type": "code",
   "execution_count": null,
   "metadata": {},
   "outputs": [],
   "source": [
    "demo_paths_by_env = {\n",
    "    'MoveToCorner': glob.glob('demos/move-to-corner/demo-*.pkl.gz'),\n",
    "}\n",
    "demo_paths = demo_paths_by_env[env_ident]\n",
    "# Gym env name with preprocessor\n",
    "env_name = f'{env_ident}-Demo-{preproc_name}-v0'"
   ]
  },
  {
   "cell_type": "code",
   "execution_count": null,
   "metadata": {},
   "outputs": [],
   "source": [
    "demo_dicts = magical.load_demos(demo_paths[:10])\n",
    "demo_trajs = []\n",
    "orig_env_name = None  # we will read this from the demos dicts\n",
    "for demo_dict in demo_dicts:\n",
    "    # each demo dict has keys ['trajectory', 'score', 'env_name']\n",
    "    # (trajectory contains the actual data, and score is generally 1.0 for demonstrations)\n",
    "    orig_env_name = demo_dict['env_name']\n",
    "    demo_trajs.append(demo_dict['trajectory'])"
   ]
  },
  {
   "cell_type": "code",
   "execution_count": null,
   "metadata": {},
   "outputs": [],
   "source": [
    "demo_trajs_preproc = magical.preprocess_demos_with_wrapper(demo_trajs, orig_env_name, preproc_name=preproc_name)"
   ]
  }
 ],
 "metadata": {
  "kernelspec": {
   "display_name": "Python 3",
   "language": "python",
   "name": "python3"
  },
  "language_info": {
   "codemirror_mode": {
    "name": "ipython",
    "version": 3
   },
   "file_extension": ".py",
   "mimetype": "text/x-python",
   "name": "python",
   "nbconvert_exporter": "python",
   "pygments_lexer": "ipython3",
   "version": "3.6.8"
  }
 },
 "nbformat": 4,
 "nbformat_minor": 4
}
